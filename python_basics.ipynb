{
  "nbformat": 4,
  "nbformat_minor": 0,
  "metadata": {
    "colab": {
      "provenance": [],
      "authorship_tag": "ABX9TyOpQUMfkHA3+S4Y1jJdi9Pj",
      "include_colab_link": true
    },
    "kernelspec": {
      "name": "python3",
      "display_name": "Python 3"
    },
    "language_info": {
      "name": "python"
    }
  },
  "cells": [
    {
      "cell_type": "markdown",
      "metadata": {
        "id": "view-in-github",
        "colab_type": "text"
      },
      "source": [
        "<a href=\"https://colab.research.google.com/github/ysaxena/AI4ICPS/blob/main/python_basics.ipynb\" target=\"_parent\"><img src=\"https://colab.research.google.com/assets/colab-badge.svg\" alt=\"Open In Colab\"/></a>"
      ]
    },
    {
      "cell_type": "code",
      "execution_count": 2,
      "metadata": {
        "colab": {
          "base_uri": "https://localhost:8080/"
        },
        "id": "cuSXvZGp2M84",
        "outputId": "842580c0-7d18-45cd-b954-085fc0749d93"
      },
      "outputs": [
        {
          "output_type": "stream",
          "name": "stdout",
          "text": [
            "Hi! What is your name: IITKGP\n",
            "Hello IITKGP, how are you?\n"
          ]
        }
      ],
      "source": [
        "# Input from user in Python\n",
        "\n",
        "name = input(\"Hi! What is your name: \")\n",
        "\n",
        "print(f\"Hello {name}, how are you?\")"
      ]
    },
    {
      "cell_type": "code",
      "source": [
        "# Ask the price of two products from the user and tell the user the total price\n",
        "\n",
        "first_prod_price = float(input(\"What is the price of the first product? \"))\n",
        "second_prod_price = float(input(\"What is the price of the second product? \"))\n",
        "\n",
        "total_price = first_prod_price + second_prod_price\n",
        "\n",
        "print(f\"The total is : {total_price}\")\n",
        "\n",
        "type(total_price)"
      ],
      "metadata": {
        "colab": {
          "base_uri": "https://localhost:8080/"
        },
        "id": "Pndi9HJS3Dnx",
        "outputId": "21d692ad-3b69-4444-80a7-a332d51dce8c"
      },
      "execution_count": 4,
      "outputs": [
        {
          "output_type": "stream",
          "name": "stdout",
          "text": [
            "What is the price of the first product? 100\n",
            "What is the price of the second product? 400\n",
            "The total is : 500.0\n"
          ]
        },
        {
          "output_type": "execute_result",
          "data": {
            "text/plain": [
              "float"
            ]
          },
          "metadata": {},
          "execution_count": 4
        }
      ]
    },
    {
      "cell_type": "code",
      "source": [
        "# Complex datatypes in python\n",
        "\n",
        "# List\n",
        "\n",
        "list_a = [\"banana\", \"apple\", \"watermelon\"]\n",
        "print(list_a)"
      ],
      "metadata": {
        "colab": {
          "base_uri": "https://localhost:8080/"
        },
        "id": "ZyTv7vTs48Gk",
        "outputId": "7d850b95-000e-4e5d-d48d-2cfce2f9773c"
      },
      "execution_count": 5,
      "outputs": [
        {
          "output_type": "stream",
          "name": "stdout",
          "text": [
            "['banana', 'apple', 'watermelon']\n"
          ]
        }
      ]
    },
    {
      "cell_type": "code",
      "source": [
        "for i in list_a:\n",
        "  print (i)"
      ],
      "metadata": {
        "colab": {
          "base_uri": "https://localhost:8080/"
        },
        "id": "YzHLQIjT6M7B",
        "outputId": "fd2b4c67-a6c4-43c7-df28-b129af0b34da"
      },
      "execution_count": 6,
      "outputs": [
        {
          "output_type": "stream",
          "name": "stdout",
          "text": [
            "banana\n",
            "apple\n",
            "watermelon\n"
          ]
        }
      ]
    },
    {
      "cell_type": "code",
      "source": [
        "#Generate a list\n",
        "\n",
        "list_of_numbers = list(range(10,20))\n",
        "\n",
        "len(list_of_numbers)"
      ],
      "metadata": {
        "colab": {
          "base_uri": "https://localhost:8080/"
        },
        "id": "yuj4Q_UU6rT6",
        "outputId": "19bbecd3-e1da-4806-99c5-f9b11253c5aa"
      },
      "execution_count": 10,
      "outputs": [
        {
          "output_type": "execute_result",
          "data": {
            "text/plain": [
              "10"
            ]
          },
          "metadata": {},
          "execution_count": 10
        }
      ]
    },
    {
      "cell_type": "code",
      "source": [
        "st = \"$100\"\n",
        "st.replace()"
      ],
      "metadata": {
        "id": "MqZ9kwaK72_u"
      },
      "execution_count": 11,
      "outputs": []
    },
    {
      "cell_type": "code",
      "source": [],
      "metadata": {
        "id": "SNTPEoPx_H_Q"
      },
      "execution_count": null,
      "outputs": []
    }
  ]
}